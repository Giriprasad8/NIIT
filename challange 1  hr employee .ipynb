{
 "cells": [
  {
   "cell_type": "code",
   "execution_count": 1,
   "id": "65af2805",
   "metadata": {},
   "outputs": [],
   "source": [
    "import numpy as np"
   ]
  },
  {
   "cell_type": "code",
   "execution_count": 2,
   "id": "118cac8d",
   "metadata": {},
   "outputs": [],
   "source": [
    "data=np.genfromtxt(r'C:\\Users\\girip\\Downloads\\DS1_C4_S1_Employee_Data_Challenge (1).csv',delimiter=',',skip_header=True)"
   ]
  },
  {
   "cell_type": "code",
   "execution_count": 3,
   "id": "560e38f6",
   "metadata": {},
   "outputs": [
    {
     "data": {
      "text/plain": [
       "array([[ 1., 22.],\n",
       "       [ 2., 27.],\n",
       "       [ 3., 31.],\n",
       "       [ 4., 29.],\n",
       "       [ 5., 27.],\n",
       "       [ 6., 26.],\n",
       "       [ 7., 27.],\n",
       "       [ 8., 23.],\n",
       "       [ 9., 27.],\n",
       "       [10., 32.],\n",
       "       [11., 28.],\n",
       "       [12., 27.],\n",
       "       [13., 22.],\n",
       "       [14., 27.],\n",
       "       [15., 35.],\n",
       "       [16., 33.],\n",
       "       [17., 28.],\n",
       "       [18., 22.],\n",
       "       [19., 25.],\n",
       "       [20., 27.],\n",
       "       [21., 37.],\n",
       "       [22., 27.],\n",
       "       [23., 24.],\n",
       "       [24., 27.],\n",
       "       [25., 28.],\n",
       "       [26., 26.],\n",
       "       [27., 27.],\n",
       "       [28., 27.],\n",
       "       [29., 29.],\n",
       "       [30., 49.],\n",
       "       [31., 26.],\n",
       "       [32., 32.],\n",
       "       [33., 26.],\n",
       "       [34., 24.],\n",
       "       [35., 24.],\n",
       "       [36., 23.],\n",
       "       [37., 28.],\n",
       "       [38., 28.],\n",
       "       [39., 22.],\n",
       "       [40., 26.],\n",
       "       [41., 32.],\n",
       "       [42., 35.],\n",
       "       [43., 33.],\n",
       "       [44., 31.],\n",
       "       [45., 30.],\n",
       "       [46., 36.],\n",
       "       [47., 22.],\n",
       "       [48., 23.],\n",
       "       [49., 32.],\n",
       "       [50., 34.]])"
      ]
     },
     "execution_count": 3,
     "metadata": {},
     "output_type": "execute_result"
    }
   ],
   "source": [
    "data"
   ]
  },
  {
   "cell_type": "code",
   "execution_count": 7,
   "id": "edcb92a1",
   "metadata": {},
   "outputs": [
    {
     "name": "stdout",
     "output_type": "stream",
     "text": [
      "the average age of employees: 28.26\n"
     ]
    }
   ],
   "source": [
    "#task 1 calculate the avg age of employees\n",
    "\n",
    "avg_age=np.mean(data[:,1])\n",
    "print(\"the average age of employees:\",avg_age)"
   ]
  },
  {
   "cell_type": "code",
   "execution_count": 19,
   "id": "a7b9303e",
   "metadata": {},
   "outputs": [
    {
     "name": "stdout",
     "output_type": "stream",
     "text": [
      "the employee code who has greater than 25: [[ 2. 27.]\n",
      " [ 3. 31.]\n",
      " [ 4. 29.]\n",
      " [ 5. 27.]\n",
      " [ 6. 26.]\n",
      " [ 7. 27.]\n",
      " [ 9. 27.]\n",
      " [10. 32.]\n",
      " [11. 28.]\n",
      " [12. 27.]\n",
      " [14. 27.]\n",
      " [15. 35.]\n",
      " [16. 33.]\n",
      " [17. 28.]\n",
      " [20. 27.]\n",
      " [21. 37.]\n",
      " [22. 27.]\n",
      " [24. 27.]\n",
      " [25. 28.]\n",
      " [26. 26.]\n",
      " [27. 27.]\n",
      " [28. 27.]\n",
      " [29. 29.]\n",
      " [30. 49.]\n",
      " [31. 26.]\n",
      " [32. 32.]\n",
      " [33. 26.]\n",
      " [37. 28.]\n",
      " [38. 28.]\n",
      " [40. 26.]\n",
      " [41. 32.]\n",
      " [42. 35.]\n",
      " [43. 33.]\n",
      " [44. 31.]\n",
      " [45. 30.]\n",
      " [46. 36.]\n",
      " [49. 32.]\n",
      " [50. 34.]]\n",
      "the employee count who has greater than 25: 38\n"
     ]
    }
   ],
   "source": [
    "#task 2 find out empcode who are above 25\n",
    "\n",
    "emp_code_above_25=data[data[:,1]>25]\n",
    "emp_id_count=emp_code_above_25.shape[0]\n",
    "print(\"the employee code who has greater than 25:\",emp_code_above_25)\n",
    "print(\"the employee count who has greater than 25:\",emp_id_count)"
   ]
  },
  {
   "cell_type": "code",
   "execution_count": 24,
   "id": "e0c5c1af",
   "metadata": {},
   "outputs": [
    {
     "name": "stdout",
     "output_type": "stream",
     "text": [
      "the employee code who has greater than 25: [[ 3. 31.]\n",
      " [10. 32.]\n",
      " [15. 35.]\n",
      " [16. 33.]\n",
      " [32. 32.]\n",
      " [41. 32.]\n",
      " [42. 35.]\n",
      " [43. 33.]\n",
      " [44. 31.]\n",
      " [45. 30.]\n",
      " [49. 32.]\n",
      " [50. 34.]]\n",
      "the employee count who has greater than 25: 12\n"
     ]
    }
   ],
   "source": [
    "#task 3  employees id and code between age 30-35\n",
    "\n",
    "emp_code_between30_35=data[(data[:,1] >=30) &(data[:,1]<=35)]\n",
    "emp_id_counts=emp_code_between30_35.shape[0]\n",
    "print(\"the employee code who has greater than 25:\",emp_code_between30_35)\n",
    "print(\"the employee count who has greater than 25:\",emp_id_counts)"
   ]
  }
 ],
 "metadata": {
  "kernelspec": {
   "display_name": "Python 3 (ipykernel)",
   "language": "python",
   "name": "python3"
  },
  "language_info": {
   "codemirror_mode": {
    "name": "ipython",
    "version": 3
   },
   "file_extension": ".py",
   "mimetype": "text/x-python",
   "name": "python",
   "nbconvert_exporter": "python",
   "pygments_lexer": "ipython3",
   "version": "3.11.5"
  }
 },
 "nbformat": 4,
 "nbformat_minor": 5
}
