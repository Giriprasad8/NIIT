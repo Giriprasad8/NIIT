{
 "cells": [
  {
   "cell_type": "code",
   "execution_count": 1,
   "id": "62d7b444",
   "metadata": {},
   "outputs": [
    {
     "name": "stdout",
     "output_type": "stream",
     "text": [
      "Enter Matt's local time in NYC (24-hour format, e.g., 22:00): 05:20\n",
      "Matt's local time in France: 11:20\n"
     ]
    }
   ],
   "source": [
    "#task 1\n",
    "from datetime import datetime, timedelta\n",
    "\n",
    "def convert_nyc_to_france_time(nyc_time):\n",
    "    time_difference = timedelta(hours=6)\n",
    "    nyc_datetime = datetime.strptime(nyc_time, '%H:%M')\n",
    "    france_datetime = nyc_datetime + time_difference\n",
    "    return france_datetime.strftime('%H:%M')\n",
    "\n",
    "nyc_time_input = input(\"Enter Matt's local time in NYC (24-hour format, e.g., 22:00): \")\n",
    "france_time = convert_nyc_to_france_time(nyc_time_input)\n",
    "print(f\"Matt's local time in France: {france_time}\")"
   ]
  },
  {
   "cell_type": "code",
   "execution_count": 2,
   "id": "7575e10c",
   "metadata": {},
   "outputs": [
    {
     "name": "stdout",
     "output_type": "stream",
     "text": [
      "Matt will need 559.62 dollars to get 500 Euros, including the 1.75% service charge.\n"
     ]
    }
   ],
   "source": [
    "#task 2\n",
    "def calculate_total_cost(euros_amount, exchange_rate, service_charge_percent):\n",
    "    dollars_amount = euros_amount * exchange_rate\n",
    "    service_charge = dollars_amount * (service_charge_percent / 100)\n",
    "    total_cost = dollars_amount + service_charge\n",
    "    \n",
    "    return total_cost\n",
    "euros_amount = 500\n",
    "exchange_rate = 1.1\n",
    "service_charge_percent = 1.75 \n",
    "total_cost_in_dollars = calculate_total_cost(euros_amount, exchange_rate, service_charge_percent)\n",
    "print(f\"Matt will need {total_cost_in_dollars:.2f} dollars to get 500 Euros, including the 1.75% service charge.\")"
   ]
  },
  {
   "cell_type": "code",
   "execution_count": 3,
   "id": "42b57bce",
   "metadata": {},
   "outputs": [
    {
     "name": "stdout",
     "output_type": "stream",
     "text": [
      "Matt will need approximately $7200.00 for his 45-day trip to France.\n"
     ]
    }
   ],
   "source": [
    "#task 3\n",
    "def calculate_france_expenditure(nyc_expenditure, increase_percentage, france_trip_days):\n",
    "    increase_amount = nyc_expenditure * (increase_percentage / 100)\n",
    "    france_expenditure = nyc_expenditure + increase_amount\n",
    "    total_france_expenditure = france_expenditure * (france_trip_days / 30)\n",
    "    return total_france_expenditure\n",
    "nyc_expenditure = 4000 \n",
    "increase_percentage = 20\n",
    "france_trip_days = 45\n",
    "total_france_expenditure = calculate_france_expenditure(nyc_expenditure, increase_percentage, france_trip_days)\n",
    "print(f\"Matt will need approximately ${total_france_expenditure:.2f} for his 45-day trip to France.\")"
   ]
  },
  {
   "cell_type": "code",
   "execution_count": 4,
   "id": "10dad8bc",
   "metadata": {},
   "outputs": [
    {
     "name": "stdout",
     "output_type": "stream",
     "text": [
      "Matt will earn a profit of $1000.00 after 1 month from his stock investment.\n"
     ]
    }
   ],
   "source": [
    "#task 4\n",
    "def calculate_stock_profit(principal_amount, interest_rate):\n",
    "    profit = principal_amount * (interest_rate / 100)\n",
    "    return profit\n",
    "principal_amount = 20000\n",
    "interest_rate = 5 \n",
    "profit_after_1_month = calculate_stock_profit(principal_amount, interest_rate)\n",
    "print(f\"Matt will earn a profit of ${profit_after_1_month:.2f} after 1 month from his stock investment.\")"
   ]
  },
  {
   "cell_type": "code",
   "execution_count": 5,
   "id": "b051d245",
   "metadata": {},
   "outputs": [
    {
     "name": "stdout",
     "output_type": "stream",
     "text": [
      "Matt should practice walking approximately 7.22 miles per day in NYC.\n"
     ]
    }
   ],
   "source": [
    "#task 5\n",
    "def calculate_miles_to_walk(kilometers_per_day, conversion_factor):\n",
    "    miles_per_day = kilometers_per_day * conversion_factor\n",
    "    return miles_per_day\n",
    "kilometers_per_day_france = 12\n",
    "conversion_factor = 0.602\n",
    "miles_per_day_nyc = calculate_miles_to_walk(kilometers_per_day_france, conversion_factor)\n",
    "print(f\"Matt should practice walking approximately {miles_per_day_nyc:.2f} miles per day in NYC.\")"
   ]
  },
  {
   "cell_type": "code",
   "execution_count": 6,
   "id": "1c88e8cd",
   "metadata": {},
   "outputs": [
    {
     "name": "stdout",
     "output_type": "stream",
     "text": [
      "An athlete will have to complete approximately 1723.27 laps in the bicycle training facility.\n"
     ]
    }
   ],
   "source": [
    "#task 6\n",
    "def calculate_laps(distance_to_cover, lap_length):\n",
    "    total_distance_in_miles = distance_to_cover * 0.621371\n",
    "    laps = total_distance_in_miles / lap_length\n",
    "    return laps\n",
    "distance_to_cover_in_km = 3328 \n",
    "lap_length_in_miles = 1.2  \n",
    "number_of_laps = calculate_laps(distance_to_cover_in_km, lap_length_in_miles)\n",
    "print(f\"An athlete will have to complete approximately {number_of_laps:.2f} laps in the bicycle training facility.\")"
   ]
  },
  {
   "cell_type": "code",
   "execution_count": 7,
   "id": "33aee7c8",
   "metadata": {},
   "outputs": [
    {
     "name": "stdout",
     "output_type": "stream",
     "text": [
      "The athlete will need approximately 5.74 days to complete the distance.\n"
     ]
    }
   ],
   "source": [
    "#task 7\n",
    "def calculate_days_to_complete(distance_to_cover, lap_length, lap_time, break_interval, break_duration, lunch_break_duration, max_daily_hours):\n",
    "    total_distance_in_miles = distance_to_cover * 0.621371  # 1 kilometer = 0.621371 miles\n",
    "    total_time_in_minutes = (total_distance_in_miles / lap_length) * lap_time\n",
    "    num_breaks = (total_distance_in_miles // (lap_length * break_interval))\n",
    "    total_break_time = num_breaks * break_duration\n",
    "    total_break_time += lunch_break_duration\n",
    "    total_time_in_hours = total_time_in_minutes / 60\n",
    "    days_required = total_time_in_hours / max_daily_hours\n",
    "    return days_required\n",
    "distance_to_cover_in_km = 3328  \n",
    "lap_length_in_miles = 1.2\n",
    "lap_time_in_minutes = 2 \n",
    "break_interval = 5 \n",
    "break_duration_in_minutes = 10 \n",
    "lunch_break_duration_in_minutes = 60 \n",
    "max_daily_hours = 10  \n",
    "days_required = calculate_days_to_complete(\n",
    "    distance_to_cover_in_km,\n",
    "    lap_length_in_miles,\n",
    "    lap_time_in_minutes,\n",
    "    break_interval,\n",
    "    break_duration_in_minutes,\n",
    "    lunch_break_duration_in_minutes,\n",
    "    max_daily_hours\n",
    ")\n",
    "print(f\"The athlete will need approximately {days_required:.2f} days to complete the distance.\")"
   ]
  },
  {
   "cell_type": "code",
   "execution_count": 8,
   "id": "07cc21ef",
   "metadata": {},
   "outputs": [
    {
     "name": "stdout",
     "output_type": "stream",
     "text": [
      "Matt needs to buy approximately 5.52 bottles of grape juice for 2 weeks.\n"
     ]
    }
   ],
   "source": [
    "#task 8\n",
    "def calculate_bottles_needed(daily_oz, bottles_size_ml, days):\n",
    "    bottles_size_oz = bottles_size_ml * 0.033814\n",
    "    total_oz_needed = daily_oz * days\n",
    "    bottles_needed = total_oz_needed / bottles_size_oz\n",
    "    return bottles_needed\n",
    "daily_oz = 10 \n",
    "bottles_size_ml = 750\n",
    "days = 14  \n",
    "bottles_needed = calculate_bottles_needed(daily_oz, bottles_size_ml, days)\n",
    "print(f\"Matt needs to buy approximately {bottles_needed:.2f} bottles of grape juice for 2 weeks.\")"
   ]
  }
 ],
 "metadata": {
  "kernelspec": {
   "display_name": "Python 3 (ipykernel)",
   "language": "python",
   "name": "python3"
  },
  "language_info": {
   "codemirror_mode": {
    "name": "ipython",
    "version": 3
   },
   "file_extension": ".py",
   "mimetype": "text/x-python",
   "name": "python",
   "nbconvert_exporter": "python",
   "pygments_lexer": "ipython3",
   "version": "3.11.5"
  }
 },
 "nbformat": 4,
 "nbformat_minor": 5
}
