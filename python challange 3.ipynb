{
 "cells": [
  {
   "cell_type": "code",
   "execution_count": 5,
   "id": "113b7985",
   "metadata": {},
   "outputs": [
    {
     "name": "stdout",
     "output_type": "stream",
     "text": [
      "enter the name of the student 16:giri\n",
      "enter the name of the student 17:prasad\n",
      "enter the name of the student 18:vignesh\n",
      "enter the name of the student 19:jvn\n",
      "enter the name of the student 20:jack\n",
      "updated student list\n",
      "['Mark Antony', 'John Chan', 'Bret Lee', 'Jim Nick', 'Janice Ken', 'Florida Thomson', 'Lily Jason', 'Matt Antony', 'Mark Thomas', 'Kenny Peterson', 'Joe Cook', 'Alexander Thomas', 'Katy Perry', 'Alexanderia Peterson', 'Mark Antony', 'giri', 'prasad', 'vignesh', 'jvn', 'jack']\n"
     ]
    }
   ],
   "source": [
    "#TASK 1 spell bee competition\n",
    "\n",
    "students_name= [\"Mark Antony\",\"John Chan\",\"Bret Lee\",\"Jim Nick\",\"Janice Ken\",\"Florida Thomson\",\"Lily Jason\",\"Matt Antony\",\"Mark Thomas\",\n",
    "      \"Kenny Peterson\",\"Joe Cook\",\"Alexander Thomas\",\"Katy Perry\",\"Alexanderia Peterson\",\"Mark Antony\"]\n",
    "for i in range(5):\n",
    "    new_students_name=input(f\"enter the name of the student {i+16}:\")\n",
    "    students_name.append(new_students_name)\n",
    "print(\"updated student list\")\n",
    "print(students_name)\n",
    "    "
   ]
  },
  {
   "cell_type": "code",
   "execution_count": null,
   "id": "efe69c72",
   "metadata": {},
   "outputs": [],
   "source": []
  },
  {
   "cell_type": "code",
   "execution_count": 33,
   "id": "ce026d90",
   "metadata": {},
   "outputs": [
    {
     "name": "stdout",
     "output_type": "stream",
     "text": [
      "name of the students in reversed order:\n",
      "jack\n",
      "jvn\n",
      "vignesh\n",
      "prasad\n",
      "giri\n",
      "Mark Antony\n",
      "Alexanderia Peterson\n",
      "Katy Perry\n",
      "Alexander Thomas\n",
      "Joe Cook\n",
      "Kenny Peterson\n",
      "Mark Thomas\n",
      "Matt Antony\n",
      "Lily Jason\n",
      "Florida Thomson\n",
      "Janice Ken\n",
      "Jim Nick\n",
      "Bret Lee\n",
      "John Chan\n",
      "Mark Antony\n"
     ]
    }
   ],
   "source": [
    "#TASK 2\n",
    "\n",
    "students_name=['Mark Antony', 'John Chan', 'Bret Lee', 'Jim Nick', 'Janice Ken', 'Florida Thomson', 'Lily Jason', 'Matt Antony', 'Mark Thomas', 'Kenny Peterson', 'Joe Cook', 'Alexander Thomas', 'Katy Perry', 'Alexanderia Peterson', 'Mark Antony', 'giri', 'prasad', 'vignesh', 'jvn', 'jack']\n",
    "print(\"name of the students in reversed order:\")\n",
    "for student in reversed(students_name):\n",
    "    print(student)\n"
   ]
  },
  {
   "cell_type": "code",
   "execution_count": 22,
   "id": "9b2ec18c",
   "metadata": {},
   "outputs": [
    {
     "name": "stdout",
     "output_type": "stream",
     "text": [
      "names of all reversed students:\n",
      "Mark Antony\n",
      "John Chan\n",
      "Bret Lee\n",
      "Jim Nick\n",
      "Janice Ken\n",
      "Florida Thomson\n",
      "Lily Jason\n",
      "Matt Antony\n",
      "Mark Thomas\n",
      "Kenny Peterson\n",
      "Joe Cook\n",
      "Alexander Thomas\n",
      "Katy Perry\n",
      "Alexanderia Peterson\n",
      "Mark Antony\n",
      "giri\n",
      "prasad\n"
     ]
    }
   ],
   "source": [
    "#TASK 3 \n",
    "\n",
    "students_names=['Mark Antony', 'John Chan', 'Bret Lee', 'Jim Nick', 'Janice Ken', 'Florida Thomson', 'Lily Jason', 'Matt Antony', 'Mark Thomas', 'Kenny Peterson', 'Joe Cook', 'Alexander Thomas', 'Katy Perry', 'Alexanderia Peterson', 'Mark Antony', 'giri', 'prasad', 'vignesh', 'jvn', 'jack']\n",
    "reversed_student=[]\n",
    "for i in  range(len(students_names)-1 -1 -1):\n",
    "    reversed_student.append(students_names[i])\n",
    "print(\"names of all reversed students:\")\n",
    "for student in reversed_student:\n",
    "    print(student)\n",
    "    "
   ]
  },
  {
   "cell_type": "code",
   "execution_count": 23,
   "id": "c6d4443a",
   "metadata": {},
   "outputs": [
    {
     "name": "stdout",
     "output_type": "stream",
     "text": [
      "final names without duplicate:\n",
      "Mark Antony\n",
      "John Chan\n",
      "Bret Lee\n",
      "Jim Nick\n",
      "Janice Ken\n",
      "Florida Thomson\n",
      "Lily Jason\n",
      "Matt Antony\n",
      "Mark Thomas\n",
      "Kenny Peterson\n",
      "Joe Cook\n",
      "Alexander Thomas\n",
      "Katy Perry\n",
      "Alexanderia Peterson\n",
      "Mark Antony\n",
      "giri\n",
      "prasad\n",
      "vignesh\n",
      "jvn\n",
      "jack\n"
     ]
    }
   ],
   "source": [
    "#TASK 4 checking duplicate\n",
    "\n",
    "students_name=['Mark Antony', 'John Chan', 'Bret Lee', 'Jim Nick', 'Janice Ken', 'Florida Thomson', 'Lily Jason', 'Matt Antony', 'Mark Thomas', 'Kenny Peterson', 'Joe Cook', 'Alexander Thomas', 'Katy Perry', 'Alexanderia Peterson', 'Mark Antony', 'giri', 'prasad', 'vignesh', 'jvn', 'jack']\n",
    "final_list=[]\n",
    "for student in students_name:\n",
    "    if students_name not in final_list:\n",
    "        final_list.append(student)\n",
    "print(\"final names without duplicate:\")\n",
    "for student in final_list:\n",
    "    print(student)"
   ]
  },
  {
   "cell_type": "code",
   "execution_count": 24,
   "id": "536068c4",
   "metadata": {},
   "outputs": [
    {
     "name": "stdout",
     "output_type": "stream",
     "text": [
      "final names without duplicate:\n",
      "Alexander Thomas\n",
      "Alexanderia Peterson\n",
      "Bret Lee\n",
      "Florida Thomson\n",
      "Janice Ken\n",
      "Jim Nick\n",
      "Joe Cook\n",
      "John Chan\n",
      "Katy Perry\n",
      "Kenny Peterson\n",
      "Lily Jason\n",
      "Mark Antony\n",
      "Mark Antony\n",
      "Mark Thomas\n",
      "Matt Antony\n",
      "giri\n",
      "jack\n",
      "jvn\n",
      "prasad\n",
      "vignesh\n"
     ]
    }
   ],
   "source": [
    "#task 5 alphabetical order\n",
    "\n",
    "students_name=['Mark Antony', 'John Chan', 'Bret Lee', 'Jim Nick', 'Janice Ken', 'Florida Thomson', 'Lily Jason', 'Matt Antony', 'Mark Thomas', 'Kenny Peterson', 'Joe Cook', 'Alexander Thomas', 'Katy Perry', 'Alexanderia Peterson', 'Mark Antony', 'giri', 'prasad', 'vignesh', 'jvn', 'jack']\n",
    "final_list=[]\n",
    "for student in students_name:\n",
    "    if students_name not in final_list:\n",
    "        final_list.append(student)\n",
    "print(\"final names without duplicate:\")\n",
    "for student in sorted(final_list):\n",
    "    print(student)"
   ]
  },
  {
   "cell_type": "code",
   "execution_count": 34,
   "id": "447a7f63",
   "metadata": {},
   "outputs": [
    {
     "name": "stdout",
     "output_type": "stream",
     "text": [
      "\n",
      "Names of selected students:\n",
      "John Chan\n",
      "Alexander Thomas\n",
      "jack\n"
     ]
    }
   ],
   "source": [
    "#TASK 6 display selected students\n",
    "\n",
    "students_name = ['Mark Antony', 'John Chan', 'Bret Lee', 'Jim Nick', 'Janice Ken', 'Florida Thomson', 'Lily Jason', 'Matt Antony', 'Mark Thomas', 'Kenny Peterson', 'Joe Cook', 'Alexander Thomas', 'Katy Perry', 'Alexanderia Peterson', 'Mark Antony', 'giri', 'prasad', 'vignesh', 'jvn', 'jack']\n",
    "final_list=[]\n",
    "final_list = []\n",
    "for student in students_name:\n",
    "    if student not in final_list:\n",
    "        final_list.append(student)\n",
    "selected_students_indices = [1, 11, -1] \n",
    "selected_students = [final_list[i] for i in selected_students_indices]\n",
    "print(\"\\nNames of selected students:\")\n",
    "for student in selected_students:\n",
    "    print(student)\n"
   ]
  },
  {
   "cell_type": "code",
   "execution_count": 53,
   "id": "bf3cadc9",
   "metadata": {},
   "outputs": [
    {
     "name": "stdout",
     "output_type": "stream",
     "text": [
      " number of integer between 555 and 678 that are dividible by 7 is:17\n"
     ]
    }
   ],
   "source": [
    "#TASK 7  count the number of integer\n",
    "\n",
    "count_divisible_7=0\n",
    "for number in range(556,678):\n",
    "    if number %7==0:\n",
    "        count_divisible_7+=1\n",
    "print(f\" number of integer between 555 and 678 that are dividible by 7 is:{count_divisible_7}\")\n",
    "        \n"
   ]
  },
  {
   "cell_type": "code",
   "execution_count": 66,
   "id": "959f0991",
   "metadata": {},
   "outputs": [
    {
     "name": "stdout",
     "output_type": "stream",
     "text": [
      "Enter the value of n: 5\n",
      "1 2 3 4 6 7 8 9 11 12 \n",
      "13 14 16 17 18 19 21 22 23 24 \n",
      "\n",
      "26 27 28 29 \n"
     ]
    }
   ],
   "source": [
    "#TASK 8  NATURAL NUMBERS\n",
    "\n",
    "n = int(input(\"Enter the value of n: \"))\n",
    "count_printed = 0\n",
    "for number in range(1, 31):\n",
    "    if number % n != 0:\n",
    "        print(number, end=' ')\n",
    "        count_printed += 1\n",
    "        print()\n",
    "print()"
   ]
  },
  {
   "cell_type": "code",
   "execution_count": 67,
   "id": "c88f1c3b",
   "metadata": {},
   "outputs": [
    {
     "name": "stdout",
     "output_type": "stream",
     "text": [
      "Result: [20, 22, 20, 10, 20, 20, 20, 20, 15]\n"
     ]
    }
   ],
   "source": [
    "#TASK 9\n",
    "firstlist = [1, 21, 3, 4, 5, 6, 7, 18, 4]\n",
    "secondlist = [19, 1, 17, 6, 15, 14, 13, 2, 11]\n",
    "thirdlist = []\n",
    "for i in range(min(len(firstlist), len(secondlist))):\n",
    "    sum_of_elements = firstlist[i] + secondlist[i]\n",
    "    thirdlist.append(sum_of_elements)\n",
    "print(\"Result:\", thirdlist)\n"
   ]
  }
 ],
 "metadata": {
  "kernelspec": {
   "display_name": "Python 3 (ipykernel)",
   "language": "python",
   "name": "python3"
  },
  "language_info": {
   "codemirror_mode": {
    "name": "ipython",
    "version": 3
   },
   "file_extension": ".py",
   "mimetype": "text/x-python",
   "name": "python",
   "nbconvert_exporter": "python",
   "pygments_lexer": "ipython3",
   "version": "3.11.5"
  }
 },
 "nbformat": 4,
 "nbformat_minor": 5
}
