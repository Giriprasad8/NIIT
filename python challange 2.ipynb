{
 "cells": [
  {
   "cell_type": "code",
   "execution_count": 1,
   "id": "58deec6e",
   "metadata": {},
   "outputs": [
    {
     "name": "stdout",
     "output_type": "stream",
     "text": [
      "enter a year between 1900 and 2100:2003\n",
      "2003 is not a leap year.\n"
     ]
    }
   ],
   "source": [
    "# TASK 1 accept the integer between 1900 and 2100\n",
    "\n",
    "year=int(input (\"enter a year between 1900 and 2100:\"))\n",
    "if year>=1900 and year<=2100:\n",
    "    if (year % 4 == 0 and year % 100 != 0) or (year % 400 == 0):\n",
    "        print(f\"{year} is a leap year.\")\n",
    "    else:\n",
    "        print(f\"{year} is not a leap year.\")\n",
    "else:\n",
    "    print('error:please enter a year between 1900 and 2100.')"
   ]
  },
  {
   "cell_type": "code",
   "execution_count": 3,
   "id": "dac4aa4a",
   "metadata": {},
   "outputs": [
    {
     "name": "stdout",
     "output_type": "stream",
     "text": [
      "enter a number between 1 and 12:4\n",
      "April has 30 days\n"
     ]
    }
   ],
   "source": [
    "#TASK 2 display month name and number od days\n",
    "\n",
    "month_number=int (input(\"enter a number between 1 and 12:\"))\n",
    "if month_number >=1 and month_number<=12:\n",
    "                 month_names=[ \"January\", \"February\", \"March\", \"April\",\"May\", \"June\", \"July\", \"August\",\"September\", \"October\", \"November\", \"December\"]\n",
    "                 days_in_month=[31, 28, 31, 30, 31, 30, 31, 31, 30, 31, 30, 31]\n",
    "                 month_name=month_names[month_number-1]\n",
    "                 num_days=days_in_month[month_number-1]\n",
    "                 print(f\"{month_name} has {num_days} days\")\n",
    "else:\n",
    "    print(\"error: please enter a number between 1 and 12:\")"
   ]
  },
  {
   "cell_type": "code",
   "execution_count": 8,
   "id": "60e62ab6",
   "metadata": {},
   "outputs": [
    {
     "name": "stdout",
     "output_type": "stream",
     "text": [
      "enter the bill amount:550\n",
      "total bill amount:$550.00\n",
      "discount:$137.50 (25% )\n",
      "Bill amount after discount: $412.50\n"
     ]
    }
   ],
   "source": [
    "#TASK 3 accept bill amount and display the discount\n",
    "\n",
    "total_bill=float(input(\"enter the bill amount:\"))\n",
    "if total_bill <= 100:\n",
    "    dicount_rate=0\n",
    "elif 100 <= total_bill < 150:\n",
    "    discount_rate = 0.10\n",
    "elif 150 <= total_bill < 250:\n",
    "    discount_rate = 0.15\n",
    "else:\n",
    "    discount_rate= 0.25\n",
    "discount_amount=total_bill*discount_rate\n",
    "discount_bill=total_bill-discount_amount\n",
    "print(f\"total bill amount:${total_bill:.2f}\")\n",
    "print(f\"discount:${discount_amount:.2f} ({discount_rate*100:.0f}% )\")\n",
    "print(f\"Bill amount after discount: ${discount_bill:.2f}\")"
   ]
  },
  {
   "cell_type": "code",
   "execution_count": 10,
   "id": "351eb138",
   "metadata": {},
   "outputs": [
    {
     "name": "stdout",
     "output_type": "stream",
     "text": [
      "Choose: Rock, Paper, or Scissors\n",
      "paper\n",
      "You chose: paper\n",
      "Computer chose: scissors\n",
      "Computer wins!\n"
     ]
    }
   ],
   "source": [
    "#TASK 4 rock,paper,scissor\n",
    "\n",
    "import random\n",
    "\n",
    "choices = [\"rock\", \"paper\", \"scissors\"]\n",
    "\n",
    "user_choice = input(\"Choose: Rock, Paper, or Scissors\\n\").lower()\n",
    "computer_choice = random.choice(choices)\n",
    "\n",
    "print(f\"You chose: {user_choice}\")\n",
    "print(f\"Computer chose: {computer_choice}\")\n",
    "\n",
    "if user_choice == computer_choice:\n",
    "    print(\"It's a tie!\")\n",
    "elif (\n",
    "    (user_choice == \"rock\" and computer_choice == \"scissors\") or\n",
    "    (user_choice == \"paper\" and computer_choice == \"rock\") or\n",
    "    (user_choice == \"scissors\" and computer_choice == \"paper\")\n",
    "):\n",
    "    print(\"You win!\")\n",
    "else:\n",
    "    print(\"Computer wins!\")"
   ]
  }
 ],
 "metadata": {
  "kernelspec": {
   "display_name": "Python 3 (ipykernel)",
   "language": "python",
   "name": "python3"
  },
  "language_info": {
   "codemirror_mode": {
    "name": "ipython",
    "version": 3
   },
   "file_extension": ".py",
   "mimetype": "text/x-python",
   "name": "python",
   "nbconvert_exporter": "python",
   "pygments_lexer": "ipython3",
   "version": "3.11.5"
  }
 },
 "nbformat": 4,
 "nbformat_minor": 5
}
