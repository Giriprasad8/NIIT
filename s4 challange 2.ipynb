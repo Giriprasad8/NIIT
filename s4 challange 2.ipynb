{
 "cells": [
  {
   "cell_type": "code",
   "execution_count": 4,
   "id": "dcf67f08",
   "metadata": {},
   "outputs": [
    {
     "name": "stdout",
     "output_type": "stream",
     "text": [
      "101    80121\n",
      "102    48483\n",
      "103    37077\n",
      "104    30660\n",
      "105    68536\n",
      "106    52666\n",
      "107    78703\n",
      "108    51036\n",
      "109    55643\n",
      "110    56990\n",
      "111    39967\n",
      "112    93822\n",
      "113    51406\n",
      "114    93947\n",
      "115    78373\n",
      "116    62765\n",
      "117    47536\n",
      "118    40528\n",
      "119    58780\n",
      "120    83197\n",
      "dtype: int64\n"
     ]
    }
   ],
   "source": [
    "#task 1 row indexes from 101 to 120\n",
    "\n",
    "import pandas as pd\n",
    "price = [80121, 48483, 37077, 30660, 68536, 52666, 78703, 51036, 55643, 56990, 39967, 93822, 51406, 93947, 78373, 62765, 47536, 40528, 58780, 83197]\n",
    "car_prices = pd.Series(price, index=range(101, 121))\n",
    "print(car_prices)"
   ]
  },
  {
   "cell_type": "code",
   "execution_count": 5,
   "id": "cd89bdcd",
   "metadata": {},
   "outputs": [
    {
     "name": "stdout",
     "output_type": "stream",
     "text": [
      "Car with highest price - Row Index: 114 Price: 93947\n",
      "Car with lowest price - Row Index: 104 Price: 30660\n"
     ]
    }
   ],
   "source": [
    "#task 2 Identify the row indexes and prices of the cars with the highest price and the lowest price\n",
    "\n",
    "max_price_index = car_prices.idxmax()\n",
    "min_price_index = car_prices.idxmin()\n",
    "max_price = car_prices[max_price_index]\n",
    "min_price = car_prices[min_price_index]\n",
    "print(\"Car with highest price - Row Index:\", max_price_index, \"Price:\", max_price)\n",
    "print(\"Car with lowest price - Row Index:\", min_price_index, \"Price:\", min_price)"
   ]
  },
  {
   "cell_type": "code",
   "execution_count": 6,
   "id": "f225b0bb",
   "metadata": {},
   "outputs": [
    {
     "name": "stdout",
     "output_type": "stream",
     "text": [
      "Top 5 cars with highest prices and their row indexes:\n",
      "114    93947\n",
      "112    93822\n",
      "120    83197\n",
      "101    80121\n",
      "107    78703\n",
      "dtype: int64\n"
     ]
    }
   ],
   "source": [
    "#task 3 Display the price of the top 5 cars with highest value, along with their row index\n",
    "\n",
    "top_5_prices = car_prices.nlargest(5)\n",
    "print(\"Top 5 cars with highest prices and their row indexes:\")\n",
    "print(top_5_prices)"
   ]
  },
  {
   "cell_type": "code",
   "execution_count": 7,
   "id": "8136831b",
   "metadata": {},
   "outputs": [
    {
     "name": "stdout",
     "output_type": "stream",
     "text": [
      "Cars priced between $30-40k:\n",
      "103    37077\n",
      "104    30660\n",
      "111    39967\n",
      "dtype: int64\n",
      "Count of cars priced between $30-40k: 3\n"
     ]
    }
   ],
   "source": [
    "#task 4 all cars priced between $30-40k along with the row indexes and count of these cars\n",
    "\n",
    "cars_30_40k = car_prices[(car_prices >= 30000) & (car_prices <= 40000)]\n",
    "print(\"Cars priced between $30-40k:\")\n",
    "print(cars_30_40k)\n",
    "print(\"Count of cars priced between $30-40k:\", len(cars_30_40k))\n"
   ]
  },
  {
   "cell_type": "code",
   "execution_count": 8,
   "id": "3ec06c6c",
   "metadata": {},
   "outputs": [
    {
     "name": "stdout",
     "output_type": "stream",
     "text": [
      "Cars priced above average:\n",
      "101    80121\n",
      "105    68536\n",
      "107    78703\n",
      "112    93822\n",
      "114    93947\n",
      "115    78373\n",
      "116    62765\n",
      "120    83197\n",
      "dtype: int64\n",
      "Count of cars priced above average: 8\n"
     ]
    }
   ],
   "source": [
    "#task 5 the average price of all cars and count of such cars\n",
    "\n",
    "average_price = car_prices.mean()\n",
    "above_average_cars = car_prices[car_prices > average_price]\n",
    "print(\"Cars priced above average:\")\n",
    "print(above_average_cars)\n",
    "print(\"Count of cars priced above average:\", len(above_average_cars))"
   ]
  },
  {
   "cell_type": "code",
   "execution_count": 14,
   "id": "a716645f",
   "metadata": {},
   "outputs": [
    {
     "name": "stdout",
     "output_type": "stream",
     "text": [
      "Updated prices along with row indexes for all cars:\n",
      "101    80121\n",
      "102    48483\n",
      "103    37077\n",
      "104    30660\n",
      "105    68536\n",
      "106    52666\n",
      "107    78703\n",
      "108    51036\n",
      "109    55643\n",
      "110    56990\n",
      "111    39967\n",
      "112    93822\n",
      "113    51406\n",
      "114    93947\n",
      "115    78373\n",
      "116    62765\n",
      "117    47536\n",
      "118    40528\n",
      "119    58780\n",
      "120    83197\n",
      "201    34000\n",
      "202    45000\n",
      "203    54000\n",
      "dtype: int64\n"
     ]
    }
   ],
   "source": [
    "#task 6 Adding three new cars \n",
    "\n",
    "new_cars = pd.Series([34000, 45000, 54000], index=[201, 202, 203])\n",
    "car_prices = pd.concat([car_prices, new_cars])\n",
    "print(\"Updated prices along with row indexes for all cars:\")\n",
    "print(car_prices)"
   ]
  },
  {
   "cell_type": "code",
   "execution_count": 15,
   "id": "cd805f73",
   "metadata": {},
   "outputs": [
    {
     "name": "stdout",
     "output_type": "stream",
     "text": [
      "Row indexes, original prices, and discounted prices of cars priced above $60,000:\n",
      "         0        1\n",
      "101  80121  64096.8\n",
      "105  68536  54828.8\n",
      "107  78703  62962.4\n",
      "112  93822  75057.6\n",
      "114  93947  75157.6\n",
      "115  78373  62698.4\n",
      "116  62765  50212.0\n",
      "120  83197  66557.6\n"
     ]
    }
   ],
   "source": [
    "#task 7 Display the original and discounted prices of all cars priced above $60,000\n",
    "\n",
    "discounted_cars = car_prices[car_prices > 60000] * 0.8\n",
    "print(\"Row indexes, original prices, and discounted prices of cars priced above $60,000:\")\n",
    "print(pd.concat([car_prices[car_prices > 60000], discounted_cars], axis=1))"
   ]
  },
  {
   "cell_type": "code",
   "execution_count": 16,
   "id": "39c3a77e",
   "metadata": {},
   "outputs": [
    {
     "name": "stdout",
     "output_type": "stream",
     "text": [
      "Updated data after selling cars priced above $60,000:\n",
      "102    48483\n",
      "103    37077\n",
      "104    30660\n",
      "106    52666\n",
      "108    51036\n",
      "109    55643\n",
      "110    56990\n",
      "111    39967\n",
      "113    51406\n",
      "117    47536\n",
      "118    40528\n",
      "119    58780\n",
      "201    34000\n",
      "202    45000\n",
      "203    54000\n",
      "dtype: int64\n",
      "Count of cars before update: 18\n",
      "Count of cars after update: 15\n"
     ]
    }
   ],
   "source": [
    "#task 8 Deleting the cars sold (priced above $60,000) and displaying the count of cars before and after the update\n",
    "\n",
    "car_prices = car_prices[car_prices <= 60000]\n",
    "print(\"Updated data after selling cars priced above $60,000:\")\n",
    "print(car_prices)\n",
    "print(\"Count of cars before update:\", len(car_prices) + 3)\n",
    "print(\"Count of cars after update:\", len(car_prices))"
   ]
  }
 ],
 "metadata": {
  "kernelspec": {
   "display_name": "Python 3 (ipykernel)",
   "language": "python",
   "name": "python3"
  },
  "language_info": {
   "codemirror_mode": {
    "name": "ipython",
    "version": 3
   },
   "file_extension": ".py",
   "mimetype": "text/x-python",
   "name": "python",
   "nbconvert_exporter": "python",
   "pygments_lexer": "ipython3",
   "version": "3.11.5"
  }
 },
 "nbformat": 4,
 "nbformat_minor": 5
}
