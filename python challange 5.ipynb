{
 "cells": [
  {
   "cell_type": "code",
   "execution_count": 1,
   "id": "0c6092c7",
   "metadata": {},
   "outputs": [
    {
     "name": "stdout",
     "output_type": "stream",
     "text": [
      "Dear John Lee, Wishing you a Merry Christmas! On behalf of your birthday and the upcoming Christmas season, we offer you a gift voucher valued $150. Birthday: $100 Christmas: $150\n",
      "Dear Tim Brooks, Wishing you a Happy Veterans Day! On behalf of your birthday, we offer you a gift voucher valued $100. Birthday: $100 Veterans Day: $100\n",
      "Dear Alice Cook, Wishing you a Happy Birthday! On behalf of your birthday, we offer you a gift voucher valued $100. Birthday: $100\n",
      "Dear Joshua John, Wishing you a Happy Birthday! On behalf of your birthday, we offer you a gift voucher valued $100. Birthday: $100\n",
      "Dear Alisa Matt, Wishing you a Happy Birthday! On behalf of your birthday, we offer you a gift voucher valued $100. Birthday: $100\n"
     ]
    }
   ],
   "source": [
    "def birthday_gift(emp_details):\n",
    "    messages = []\n",
    "\n",
    "    for name, dob in emp_details.items():\n",
    "        dob_month = dob.split(\"-\")[0]\n",
    "\n",
    "        birthday_amount = 100\n",
    "        christmas_amount = 150\n",
    "        veterans_amount = 100\n",
    "        independence_day_amount = 50\n",
    "\n",
    "        total_voucher = 0\n",
    "\n",
    "        if dob_month == \"7\":\n",
    "            total_voucher += independence_day_amount\n",
    "            messages.append(f\"Dear {name}, Wishing you a Happy Independence Day! On behalf of your birthday, we offer you a gift voucher valued ${total_voucher}.  Birthday : ${birthday_amount} independence day: ${independence_day_amount}\")\n",
    "        elif dob_month == \"12\":\n",
    "            total_voucher += christmas_amount\n",
    "            messages.append(f\"Dear {name}, Wishing you a Merry Christmas! On behalf of your birthday and the upcoming Christmas season, we offer you a gift voucher valued ${total_voucher}. Birthday: ${birthday_amount} Christmas: ${christmas_amount}\")\n",
    "        elif dob_month == \"11\":\n",
    "            total_voucher += veterans_amount\n",
    "            messages.append(f\"Dear {name}, Wishing you a Happy Veterans Day! On behalf of your birthday, we offer you a gift voucher valued ${total_voucher}. Birthday: ${birthday_amount} Veterans Day: ${veterans_amount}\")\n",
    "        else:\n",
    "            total_voucher += birthday_amount\n",
    "            messages.append(f\"Dear {name}, Wishing you a Happy Birthday! On behalf of your birthday, we offer you a gift voucher valued ${total_voucher}. Birthday: ${birthday_amount}\")\n",
    "    return messages\n",
    "employee_details = {\n",
    "    \"John Lee\": \"12-12-1976\",\n",
    "    \"Tim Brooks\": \"11-04-1980\",\n",
    "    \"Alice Cook\": \"07-01-1978\",\n",
    "    \"Joshua John\": \"05-02-1991\",\n",
    "    \"Alisa Matt\": \"03-04-1990\"\n",
    "}\n",
    "\n",
    "result = birthday_gift(employee_details)\n",
    "\n",
    "for message in result:\n",
    "    print(message)\n"
   ]
  }
 ],
 "metadata": {
  "kernelspec": {
   "display_name": "Python 3 (ipykernel)",
   "language": "python",
   "name": "python3"
  },
  "language_info": {
   "codemirror_mode": {
    "name": "ipython",
    "version": 3
   },
   "file_extension": ".py",
   "mimetype": "text/x-python",
   "name": "python",
   "nbconvert_exporter": "python",
   "pygments_lexer": "ipython3",
   "version": "3.11.5"
  }
 },
 "nbformat": 4,
 "nbformat_minor": 5
}
