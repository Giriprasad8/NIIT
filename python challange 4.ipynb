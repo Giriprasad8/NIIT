{
 "cells": [
  {
   "cell_type": "code",
   "execution_count": 4,
   "id": "a96786c0",
   "metadata": {},
   "outputs": [
    {
     "name": "stdout",
     "output_type": "stream",
     "text": [
      "Number of Continents on Earth\n",
      "{1: 'Seven', 2: 'Four', 3: 'Five', 4: 'Five'}\n",
      "\n",
      "\n",
      "Enter the option between 1 and 4 (Enter 5 to skip the question): 1\n",
      "Correct!\n",
      "\n",
      "Which country successfully landed a man on the moon\n",
      "{1: 'USA', 2: 'Germany', 3: 'France', 4: 'England'}\n",
      "\n",
      "\n",
      "Enter the option between 1 and 4 (Enter 5 to skip the question): 1\n",
      "Correct!\n",
      "\n",
      "Which country is not present in the continent of North America\n",
      "{1: 'Mexico', 2: 'USA', 3: 'Canada', 4: 'Brazil'}\n",
      "\n",
      "\n",
      "Enter the option between 1 and 4 (Enter 5 to skip the question): 5\n",
      "Question skipped.\n",
      "\n"
     ]
    }
   ],
   "source": [
    "Q = {\n",
    "    \"Number of Continents on Earth\": {\n",
    "        1: \"Seven\",\n",
    "        2: \"Four\",\n",
    "        3: \"Five\",\n",
    "        4: \"Five\"\n",
    "    },\n",
    "    \"Which country successfully landed a man on the moon\": {\n",
    "        1: \"USA\",\n",
    "        2: \"Germany\",\n",
    "        3: \"France\",\n",
    "        4: \"England\"\n",
    "    },\n",
    "    \"Which country is not present in the continent of North America\": {\n",
    "        1: \"Mexico\",\n",
    "        2: \"USA\",\n",
    "        3: \"Canada\",\n",
    "        4: \"Brazil\"\n",
    "    },\n",
    "}\n",
    "A = list(Q.values())\n",
    "CA = [1, 1, 4] \n",
    "myit = iter(A)\n",
    "for question, options in Q.items():\n",
    "    print(question)\n",
    "    a = next(myit)\n",
    "    print(a)\n",
    "    print(\"\\n\")\n",
    "    ans = input(\"Enter the option between 1 and 4 (Enter 5 to skip the question): \")\n",
    "    if ans == '5':\n",
    "        print(\"Question skipped.\\n\")\n",
    "        continue\n",
    "    if ans.isdigit():\n",
    "        ans = int(ans)\n",
    "        if ans == CA[list(Q.keys()).index(question)]:\n",
    "            print(\"Correct!\\n\")\n",
    "        else:\n",
    "            print(\"Incorrect!\\n\")\n",
    "    else:\n",
    "        print(\"Invalid input. Please enter a number between 1 and 4 or 5 to skip the question.\\n\")\n"
   ]
  }
 ],
 "metadata": {
  "kernelspec": {
   "display_name": "Python 3 (ipykernel)",
   "language": "python",
   "name": "python3"
  },
  "language_info": {
   "codemirror_mode": {
    "name": "ipython",
    "version": 3
   },
   "file_extension": ".py",
   "mimetype": "text/x-python",
   "name": "python",
   "nbconvert_exporter": "python",
   "pygments_lexer": "ipython3",
   "version": "3.11.5"
  }
 },
 "nbformat": 4,
 "nbformat_minor": 5
}
